{
 "cells": [
  {
   "cell_type": "code",
   "execution_count": null,
   "metadata": {},
   "outputs": [],
   "source": [
    "import os\n",
    "import cv2\n",
    "import time\n",
    "import imageio\n",
    "\n",
    "\n",
    "def get_all_img_files(root_path):\n",
    "    for root, dirs, img_files in os.walk(root_path):\n",
    "        all_img_files = list(map(lambda path: os.path.join(root, path), img_files))\n",
    "        all_img_files.sort()\n",
    "        return all_img_files\n",
    "\n",
    "\n",
    "def create_gif(gif_name, all_img_files, duration=0.1):\n",
    "    '''\n",
    "    生成gif文件，原始图片仅支持png格式\n",
    "    gif_name ：\n",
    "    all_img_files :\n",
    "    duration :  gif 图像时间间隔\n",
    "    '''\n",
    "\n",
    "    frames = list(map(lambda img_file: imageio.imread(img_file), all_img_files))  # 读取 png 图像文件\n",
    "    # 保存为 gif\n",
    "    imageio.mimsave(gif_name, frames, 'GIF', duration=duration)\n",
    "    return\n",
    "\n",
    "\n",
    "if __name__ == '__main__':\n",
    "    root_path = 'F:\\\\SRAD\\\\SRAD2018_TRAIN_001\\\\RAD_206482404212534'\n",
    "    all_img_path = get_all_img_files(root_path)\n",
    "\n",
    "    # create_gif('/opt/disk1/a.gif', all_img_path, duration=0.1)\n",
    "\n",
    "    for img_path in all_img_path:\n",
    "        im = cv2.imread(img_path)\n",
    "        print(im.shape)\n",
    "        cv2.imshow('a', im)\n",
    "        if cv2.waitKey(1) & 0xFF == ord('q'):\n",
    "            break\n",
    "        time.sleep(0.1)\n",
    "\n",
    "    cv2.destroyAllWindows()"
   ]
  }
 ],
 "metadata": {
  "kernelspec": {
   "display_name": "Python 3",
   "language": "python",
   "name": "python3"
  },
  "language_info": {
   "codemirror_mode": {
    "name": "ipython",
    "version": 3
   },
   "file_extension": ".py",
   "mimetype": "text/x-python",
   "name": "python",
   "nbconvert_exporter": "python",
   "pygments_lexer": "ipython3",
   "version": "3.6.4"
  }
 },
 "nbformat": 4,
 "nbformat_minor": 2
}
