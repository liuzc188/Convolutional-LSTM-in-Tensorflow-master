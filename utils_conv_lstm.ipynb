{
 "cells": [
  {
   "cell_type": "code",
   "execution_count": 1,
   "metadata": {},
   "outputs": [
    {
     "name": "stderr",
     "output_type": "stream",
     "text": [
      "C:\\Users\\Administrator\\Anaconda3\\lib\\site-packages\\h5py\\__init__.py:36: FutureWarning: Conversion of the second argument of issubdtype from `float` to `np.floating` is deprecated. In future, it will be treated as `np.float64 == np.dtype(float).type`.\n",
      "  from ._conv import register_converters as _register_converters\n"
     ]
    }
   ],
   "source": [
    "import os\n",
    "import scipy\n",
    "import numpy as np\n",
    "import tensorflow as tf\n",
    "import matplotlib.pyplot as plt\n",
    "import utils_conv_lstm as u\n",
    "from config import cfg"
   ]
  },
  {
   "cell_type": "code",
   "execution_count": 2,
   "metadata": {},
   "outputs": [],
   "source": [
    "def_imagepath = 'D:\\\\0000139611_2\\\\SRAD\\\\SRAD2018_TRAIN_001'\n",
    "\n",
    "def load_path(path = def_imagepath):\n",
    "    p = os.listdir(path)\n",
    "    SRADpath=[]\n",
    "    for filename in p:\n",
    "        filepath = os.path.join(path, filename)\n",
    "        SRADpath.append(filepath)\n",
    "    return SRADpath\n",
    "\n",
    "\n",
    "def load_data( seq_length, shape, imagepath = def_imagepath, is_training = True):\n",
    "    SRAD = load_path()\n",
    "    imagepath = tf.cast(SRAD, tf.string)\n",
    "    input_queue = tf.train.slice_input_producer([imagepath], shuffle=False)\n",
    "    image_contents = tf.read_file(input_queue[0])\n",
    "    image = tf.image.decode_jpeg(image_contents, channels=3)\n",
    "    image = tf.image.resize_images(image, [shape, shape], method=0)\n",
    "    image = tf.cast(image, tf.uint8)\n",
    "    image_batch = tf.train.batch([image], batch_size=seq_length)\n",
    "    dat = tf.reshape(image_batch,[1,seq_length,shape,shape,3])\n",
    "    return dat\n",
    "\n",
    "#在此处准备数据集\n",
    "def generate_bouncing_ball_sample(batch_size, seq_length, shape, is_training):\n",
    "    # for i in range(batch_size):\n",
    "    #   dat[i, :, :, :, :] = load_data(seq_length, shape, is_training).eval()\n",
    "    data_loader = load_data(seq_length, shape, is_training)\n",
    "    image_batch = tf.train.batch([data_loader], batch_size=batch_size)\n",
    "    dat = tf.reshape(image_batch, [batch_size, seq_length, shape, shape, 3])\n",
    "    return dat"
   ]
  },
  {
   "cell_type": "code",
   "execution_count": null,
   "metadata": {},
   "outputs": [],
   "source": [
    "# 此处为实验程序\n",
    "# with tf.Session() as sess:\n",
    "#     sess.run(tf.global_variables_initializer())\n",
    "#     dd = load_data(30, 32)\n",
    "#     dat = generate_bouncing_ball_sample(cfg.batch_size, cfg.seq_length, cfg.shape, cfg.is_training)\n",
    "#     n=1\n",
    "\n",
    "# def load_data(batch_size, is_training=True):\n",
    "#     path = 'F:\\\\SRAD\\\\SRAD2018_TRAIN_001'\n",
    "#     if is_training:\n",
    "#         dat = np.zeros((batch_size, seq_length, shape, shape, 3)) #读入一个批矩阵\n",
    "#\n",
    "#         fd = open(os.path.join(path, 'train-images-idx3-ubyte'))\n",
    "#         loaded = np.fromfile(file=fd, dtype=np.uint8)\n",
    "#         trainX = loaded[16:].reshape((60000, 28, 28, 1)).astype(np.float32)\n",
    "#\n",
    "#         fd = open(os.path.join(path, 'train-labels-idx1-ubyte'))\n",
    "#         loaded = np.fromfile(file=fd, dtype=np.uint8)\n",
    "#         trainY = loaded[8:].reshape((60000)).astype(np.int32)\n",
    "#\n",
    "#         trX = trainX[:55000] / 255.\n",
    "#         trY = trainY[:55000]\n",
    "#\n",
    "#         valX = trainX[55000:, ] / 255.\n",
    "#         valY = trainY[55000:]\n",
    "#\n",
    "#         num_tr_batch = 55000 // batch_size\n",
    "#         num_val_batch = 5000 // batch_size\n",
    "#\n",
    "#         return trX, trY, num_tr_batch, valX, valY, num_val_batch\n",
    "#     else:\n",
    "#         fd = open(os.path.join(path, 't10k-images-idx3-ubyte'))\n",
    "#         loaded = np.fromfile(file=fd, dtype=np.uint8)\n",
    "#         teX = loaded[16:].reshape((10000, 28, 28, 1)).astype(np.float)\n",
    "#\n",
    "#         fd = open(os.path.join(path, 't10k-labels-idx1-ubyte'))\n",
    "#         loaded = np.fromfile(file=fd, dtype=np.uint8)\n",
    "#         teY = loaded[8:].reshape((10000)).astype(np.int32)\n",
    "#\n",
    "#         num_te_batch = 10000 // batch_size\n",
    "#         return teX / 255., teY, num_te_batch"
   ]
  },
  {
   "cell_type": "code",
   "execution_count": 3,
   "metadata": {},
   "outputs": [],
   "source": [
    "def save_images(imgs, size, path):\n",
    "    '''\n",
    "    Args:\n",
    "        imgs: [batch_size, image_height, image_width]\n",
    "        size: a list with tow int elements, [image_height, image_width]\n",
    "        path: the path to save images\n",
    "    '''\n",
    "    imgs = (imgs + 1.) / 2  # inverse_transform\n",
    "    return(scipy.misc.imsave(path, mergeImgs(imgs, size)))\n",
    "\n",
    "\n",
    "def mergeImgs(images, size):\n",
    "    h, w = images.shape[1], images.shape[2]\n",
    "    imgs = np.zeros((h * size[0], w * size[1], 3))\n",
    "    for idx, image in enumerate(images):\n",
    "        i = idx % size[1]\n",
    "        j = idx // size[1]\n",
    "        imgs[j * h:j * h + h, i * w:i * w + w, :] = image\n",
    "\n",
    "    return imgs\n",
    "\n",
    "\n",
    "# For version compatibility\n",
    "def reduce_sum(input_tensor, axis=None, keepdims=False):\n",
    "    try:\n",
    "        return tf.reduce_sum(input_tensor, axis=axis, keepdims=keepdims)\n",
    "    except:\n",
    "        return tf.reduce_sum(input_tensor, axis=axis, keep_dims=keepdims)\n",
    "\n",
    "\n",
    "# For version compatibility\n",
    "def softmax(logits, axis=None):\n",
    "    try:\n",
    "        return tf.nn.softmax(logits, axis=axis)\n",
    "    except:\n",
    "        return tf.nn.softmax(logits, dim=axis)"
   ]
  },
  {
   "cell_type": "code",
   "execution_count": null,
   "metadata": {},
   "outputs": [],
   "source": []
  }
 ],
 "metadata": {
  "kernelspec": {
   "display_name": "Python 3",
   "language": "python",
   "name": "python3"
  },
  "language_info": {
   "codemirror_mode": {
    "name": "ipython",
    "version": 3
   },
   "file_extension": ".py",
   "mimetype": "text/x-python",
   "name": "python",
   "nbconvert_exporter": "python",
   "pygments_lexer": "ipython3",
   "version": "3.6.4"
  }
 },
 "nbformat": 4,
 "nbformat_minor": 2
}
