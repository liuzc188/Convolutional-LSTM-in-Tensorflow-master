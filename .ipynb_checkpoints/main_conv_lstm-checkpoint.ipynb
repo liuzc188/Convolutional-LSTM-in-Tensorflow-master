{
 "cells": [
  {
   "cell_type": "code",
   "execution_count": null,
   "metadata": {},
   "outputs": [],
   "source": []
  },
  {
   "cell_type": "code",
   "execution_count": 17,
   "metadata": {},
   "outputs": [
    {
     "data": {
      "text/plain": [
       "'D:\\\\0000139611_2'"
      ]
     },
     "execution_count": 17,
     "metadata": {},
     "output_type": "execute_result"
    }
   ],
   "source": [
    "import os\n",
    "\n",
    "path = os.getcwd()\n",
    "path\n"
   ]
  },
  {
   "cell_type": "code",
   "execution_count": 4,
   "metadata": {},
   "outputs": [
    {
     "name": "stderr",
     "output_type": "stream",
     "text": [
      "C:\\Users\\Administrator\\Anaconda3\\lib\\site-packages\\h5py\\__init__.py:36: FutureWarning: Conversion of the second argument of issubdtype from `float` to `np.floating` is deprecated. In future, it will be treated as `np.float64 == np.dtype(float).type`.\n",
      "  from ._conv import register_converters as _register_converters\n"
     ]
    }
   ],
   "source": [
    "import os\n",
    "import time\n",
    "\n",
    "import numpy as np\n",
    "import tensorflow as tf\n",
    "import cv2\n",
    "\n",
    "import utils_conv_lstm as u\n",
    "import layer_def as ld\n",
    "import BasicConvLSTMCell\n",
    "from config import cfg"
   ]
  },
  {
   "cell_type": "code",
   "execution_count": 5,
   "metadata": {},
   "outputs": [],
   "source": [
    "is_training = True  #设置为True是训练集， False是测试集\n",
    "fourcc = cv2.VideoWriter_fourcc('m', 'p', '4', 'v') "
   ]
  },
  {
   "cell_type": "code",
   "execution_count": 6,
   "metadata": {},
   "outputs": [],
   "source": [
    "def network(inputs, hidden, lstm=True):\n",
    "    conv1 = ld.conv_layer(inputs, 3, 2, 8, \"encode_1\")\n",
    "    # conv2\n",
    "    conv2 = ld.conv_layer(conv1, 3, 1, 8, \"encode_2\")\n",
    "    # conv3\n",
    "    conv3 = ld.conv_layer(conv2, 3, 2, 8, \"encode_3\")\n",
    "    # conv4\n",
    "    conv4 = ld.conv_layer(conv3, 1, 1, 4, \"encode_4\")\n",
    "    y_0 = conv4\n",
    "    if lstm:\n",
    "        # conv lstm cell \n",
    "        with tf.variable_scope('conv_lstm', initializer = tf.random_uniform_initializer(-.01, 0.1)):\n",
    "            cell = BasicConvLSTMCell.BasicConvLSTMCell([8,8], [3,3], 4)\n",
    "            if hidden is None:\n",
    "                hidden = cell.zero_state(cfg.batch_size, tf.float32) \n",
    "            y_1, hidden = cell(y_0, hidden)\n",
    "    else:\n",
    "        y_1 = ld.conv_layer(y_0, 3, 1, 8, \"encode_3\")\n",
    "\n",
    "    # conv5\n",
    "    conv5 = ld.transpose_conv_layer(y_1, 1, 1, 8, \"decode_5\")\n",
    "    # conv6\n",
    "    conv6 = ld.transpose_conv_layer(conv5, 3, 2, 8, \"decode_6\")\n",
    "    # conv7\n",
    "    conv7 = ld.transpose_conv_layer(conv6, 3, 1, 8, \"decode_7\")\n",
    "    # x_1 \n",
    "    x_1 = ld.transpose_conv_layer(conv7, 3, 2, 3, \"decode_8\", True) # set activation to linear\n",
    "\n",
    "    return x_1, hidden\n",
    "\n",
    "# make a template for reuse\n",
    "network_template = tf.make_template('network', network)"
   ]
  },
  {
   "cell_type": "code",
   "execution_count": 7,
   "metadata": {},
   "outputs": [],
   "source": [
    "def train():\n",
    "    \"\"\"Train ring_net for a number of steps.\"\"\"\n",
    "#     with tf.Graph().as_default(): 改成下面的\n",
    "    with tf.Session() as sess:\n",
    "        # make inputs\n",
    "        x = tf.placeholder(tf.float32, [None, cfg.seq_length, cfg.shape, cfg.shape, 3])\n",
    "        # y = tf.placeholder(tf.float32, [None, cfg.seq_length, 501, 501, 1])\n",
    "\n",
    "        # possible dropout inside\n",
    "        keep_prob = tf.placeholder(\"float\")\n",
    "        x_dropout = tf.nn.dropout(x, keep_prob)\n",
    "\n",
    "        # create network\n",
    "        x_unwrap = []\n",
    "\n",
    "        # conv network\n",
    "        hidden = None\n",
    "        for i in range(cfg.seq_length-1):\n",
    "\n",
    "            if i < cfg.seq_start:\n",
    "                x_1, hidden = network_template(x_dropout[:,i,:,:,:], hidden)\n",
    "            else:\n",
    "                x_1, hidden = network_template(x_1, hidden)\n",
    "            x_unwrap.append(x_1)\n",
    "\n",
    "        # pack them all together \n",
    "        x_unwrap = tf.stack(x_unwrap)\n",
    "        x_unwrap = tf.transpose(x_unwrap, [1,0,2,3,4])\n",
    "\n",
    "        # this part will be used for generating video\n",
    "        x_unwrap_g = []\n",
    "        hidden_g = None\n",
    "        for i in range(50):\n",
    "\n",
    "            if i < cfg.seq_start:\n",
    "                x_1_g, hidden_g = network_template(x_dropout[:,i,:,:,:], hidden_g)\n",
    "            else:\n",
    "                x_1_g, hidden_g = network_template(x_1_g, hidden_g)\n",
    "            x_unwrap_g.append(x_1_g)\n",
    "\n",
    "        # pack them generated ones\n",
    "        x_unwrap_g = tf.stack(x_unwrap_g)\n",
    "        x_unwrap_g = tf.transpose(x_unwrap_g, [1,0,2,3,4])\n",
    "\n",
    "        # calc total loss (compare x_t to x_t+1)\n",
    "        loss = tf.nn.l2_loss(x[:,cfg.seq_start+1:,:,:,:] - x_unwrap[:,cfg.seq_start:,:,:,:])\n",
    "        tf.summary.scalar('loss', loss)\n",
    "\n",
    "        # training\n",
    "        train_op = tf.train.AdamOptimizer(cfg.lr).minimize(loss)\n",
    "\n",
    "        # List of all Variables\n",
    "        variables = tf.global_variables()\n",
    "\n",
    "        # Build a saver\n",
    "        saver = tf.train.Saver(tf.global_variables())   \n",
    "\n",
    "        # Summary op\n",
    "        summary_op = tf.summary.merge_all()\n",
    "\n",
    "        # Build an initialization operation to run below.\n",
    "        init = tf.global_variables_initializer()\n",
    "\n",
    "    # Start running operations on the Graph.\n",
    "    sess = tf.Session()\n",
    "\n",
    "    # init if this is the very time training\n",
    "    print(\"init network from scratch\")\n",
    "    sess.run(init)\n",
    "\n",
    "    # Summary op\n",
    "    graph_def = sess.graph.as_graph_def(add_shapes=True)\n",
    "    summary_writer = tf.summary.FileWriter(cfg.train_dir, graph_def=graph_def)\n",
    "\n",
    "\n",
    "    for step in range(cfg.max_step):\n",
    "        dat = u.generate_bouncing_ball_sample(cfg.batch_size, cfg.seq_length, cfg.shape, cfg.is_training)\n",
    "        dat = sess.run(dat)\n",
    "        t = time.time()\n",
    "        _, loss_r = sess.run([train_op, loss],feed_dict={x:dat, keep_prob: cfg.keep_prob})\n",
    "        elapsed = time.time() - t\n",
    "    \n",
    "        if step%100 == 0 and step != 0:\n",
    "            summary_str = sess.run(summary_op, feed_dict={x:dat, keep_prob:cfg.keep_prob})\n",
    "            summary_writer.add_summary(summary_str, step) \n",
    "            print(\"time per batch is \" + str(elapsed))\n",
    "            print(step)\n",
    "            print(loss_r)\n",
    "      \n",
    "        assert not np.isnan(loss_r), 'Model diverged with loss = NaN'\n",
    "\n",
    "        if step%1000 == 0:\n",
    "            checkpoint_path = os.path.join(cfg.train_dir, 'model.ckpt')\n",
    "            saver.save(sess, checkpoint_path, global_step=step)  \n",
    "            print(\"saved to \" + cfg.train_dir)\n",
    "\n",
    "        # make video\n",
    "        print(\"now generating video!\")\n",
    "        video = cv2.VideoWriter()\n",
    "        success = video.open(\"generated_conv_lstm_video.mov\", fourcc, 4, (180, 180), True)\n",
    "        dat_gif = dat\n",
    "        ims = sess.run([x_unwrap_g],feed_dict={x:dat_gif, keep_prob:cfg.keep_prob})\n",
    "        ims = ims[0][0]\n",
    "        print(ims.shape)\n",
    "        for i in range(50 - cfg.seq_start):\n",
    "            x_1_r = np.uint8(np.maximum(ims[i,:,:,:], 0) * 255*70)\n",
    "            new_im = cv2.resize(x_1_r, (180,180))\n",
    "            video.write(new_im)\n",
    "        video.release()"
   ]
  },
  {
   "cell_type": "code",
   "execution_count": 8,
   "metadata": {},
   "outputs": [],
   "source": [
    "def main(argv=None):  # pylint: disable=unused-argument\n",
    "    if tf.gfile.Exists(cfg.train_dir):\n",
    "        tf.gfile.DeleteRecursively(cfg.train_dir)\n",
    "    tf.gfile.MakeDirs(cfg.train_dir)\n",
    "    train()"
   ]
  },
  {
   "cell_type": "code",
   "execution_count": 9,
   "metadata": {},
   "outputs": [
    {
     "name": "stdout",
     "output_type": "stream",
     "text": [
      "init network from scratch\n"
     ]
    },
    {
     "ename": "RuntimeError",
     "evalue": "The Session graph is empty.  Add operations to the graph before calling run().",
     "output_type": "error",
     "traceback": [
      "\u001b[1;31m---------------------------------------------------------------------------\u001b[0m",
      "\u001b[1;31mRuntimeError\u001b[0m                              Traceback (most recent call last)",
      "\u001b[1;32m<ipython-input-9-cf34dbe789c1>\u001b[0m in \u001b[0;36m<module>\u001b[1;34m()\u001b[0m\n\u001b[0;32m      1\u001b[0m \u001b[1;32mif\u001b[0m \u001b[0m__name__\u001b[0m \u001b[1;33m==\u001b[0m \u001b[1;34m'__main__'\u001b[0m\u001b[1;33m:\u001b[0m\u001b[1;33m\u001b[0m\u001b[0m\n\u001b[1;32m----> 2\u001b[1;33m     \u001b[0mtf\u001b[0m\u001b[1;33m.\u001b[0m\u001b[0mapp\u001b[0m\u001b[1;33m.\u001b[0m\u001b[0mrun\u001b[0m\u001b[1;33m(\u001b[0m\u001b[1;33m)\u001b[0m\u001b[1;33m\u001b[0m\u001b[0m\n\u001b[0m",
      "\u001b[1;32m~\\Anaconda3\\lib\\site-packages\\tensorflow\\python\\platform\\app.py\u001b[0m in \u001b[0;36mrun\u001b[1;34m(main, argv)\u001b[0m\n\u001b[0;32m    124\u001b[0m   \u001b[1;31m# Call the main function, passing through any arguments\u001b[0m\u001b[1;33m\u001b[0m\u001b[1;33m\u001b[0m\u001b[0m\n\u001b[0;32m    125\u001b[0m   \u001b[1;31m# to the final program.\u001b[0m\u001b[1;33m\u001b[0m\u001b[1;33m\u001b[0m\u001b[0m\n\u001b[1;32m--> 126\u001b[1;33m   \u001b[0m_sys\u001b[0m\u001b[1;33m.\u001b[0m\u001b[0mexit\u001b[0m\u001b[1;33m(\u001b[0m\u001b[0mmain\u001b[0m\u001b[1;33m(\u001b[0m\u001b[0margv\u001b[0m\u001b[1;33m)\u001b[0m\u001b[1;33m)\u001b[0m\u001b[1;33m\u001b[0m\u001b[0m\n\u001b[0m\u001b[0;32m    127\u001b[0m \u001b[1;33m\u001b[0m\u001b[0m\n\u001b[0;32m    128\u001b[0m \u001b[1;33m\u001b[0m\u001b[0m\n",
      "\u001b[1;32m<ipython-input-8-f8bb9c5091df>\u001b[0m in \u001b[0;36mmain\u001b[1;34m(argv)\u001b[0m\n\u001b[0;32m      3\u001b[0m         \u001b[0mtf\u001b[0m\u001b[1;33m.\u001b[0m\u001b[0mgfile\u001b[0m\u001b[1;33m.\u001b[0m\u001b[0mDeleteRecursively\u001b[0m\u001b[1;33m(\u001b[0m\u001b[0mcfg\u001b[0m\u001b[1;33m.\u001b[0m\u001b[0mtrain_dir\u001b[0m\u001b[1;33m)\u001b[0m\u001b[1;33m\u001b[0m\u001b[0m\n\u001b[0;32m      4\u001b[0m     \u001b[0mtf\u001b[0m\u001b[1;33m.\u001b[0m\u001b[0mgfile\u001b[0m\u001b[1;33m.\u001b[0m\u001b[0mMakeDirs\u001b[0m\u001b[1;33m(\u001b[0m\u001b[0mcfg\u001b[0m\u001b[1;33m.\u001b[0m\u001b[0mtrain_dir\u001b[0m\u001b[1;33m)\u001b[0m\u001b[1;33m\u001b[0m\u001b[0m\n\u001b[1;32m----> 5\u001b[1;33m     \u001b[0mtrain\u001b[0m\u001b[1;33m(\u001b[0m\u001b[1;33m)\u001b[0m\u001b[1;33m\u001b[0m\u001b[0m\n\u001b[0m",
      "\u001b[1;32m<ipython-input-7-1b59622abe9f>\u001b[0m in \u001b[0;36mtrain\u001b[1;34m()\u001b[0m\n\u001b[0;32m     66\u001b[0m     \u001b[1;31m# init if this is the very time training\u001b[0m\u001b[1;33m\u001b[0m\u001b[1;33m\u001b[0m\u001b[0m\n\u001b[0;32m     67\u001b[0m     \u001b[0mprint\u001b[0m\u001b[1;33m(\u001b[0m\u001b[1;34m\"init network from scratch\"\u001b[0m\u001b[1;33m)\u001b[0m\u001b[1;33m\u001b[0m\u001b[0m\n\u001b[1;32m---> 68\u001b[1;33m     \u001b[0msess\u001b[0m\u001b[1;33m.\u001b[0m\u001b[0mrun\u001b[0m\u001b[1;33m(\u001b[0m\u001b[0minit\u001b[0m\u001b[1;33m)\u001b[0m\u001b[1;33m\u001b[0m\u001b[0m\n\u001b[0m\u001b[0;32m     69\u001b[0m \u001b[1;33m\u001b[0m\u001b[0m\n\u001b[0;32m     70\u001b[0m     \u001b[1;31m# Summary op\u001b[0m\u001b[1;33m\u001b[0m\u001b[1;33m\u001b[0m\u001b[0m\n",
      "\u001b[1;32m~\\Anaconda3\\lib\\site-packages\\tensorflow\\python\\client\\session.py\u001b[0m in \u001b[0;36mrun\u001b[1;34m(self, fetches, feed_dict, options, run_metadata)\u001b[0m\n\u001b[0;32m    903\u001b[0m     \u001b[1;32mtry\u001b[0m\u001b[1;33m:\u001b[0m\u001b[1;33m\u001b[0m\u001b[0m\n\u001b[0;32m    904\u001b[0m       result = self._run(None, fetches, feed_dict, options_ptr,\n\u001b[1;32m--> 905\u001b[1;33m                          run_metadata_ptr)\n\u001b[0m\u001b[0;32m    906\u001b[0m       \u001b[1;32mif\u001b[0m \u001b[0mrun_metadata\u001b[0m\u001b[1;33m:\u001b[0m\u001b[1;33m\u001b[0m\u001b[0m\n\u001b[0;32m    907\u001b[0m         \u001b[0mproto_data\u001b[0m \u001b[1;33m=\u001b[0m \u001b[0mtf_session\u001b[0m\u001b[1;33m.\u001b[0m\u001b[0mTF_GetBuffer\u001b[0m\u001b[1;33m(\u001b[0m\u001b[0mrun_metadata_ptr\u001b[0m\u001b[1;33m)\u001b[0m\u001b[1;33m\u001b[0m\u001b[0m\n",
      "\u001b[1;32m~\\Anaconda3\\lib\\site-packages\\tensorflow\\python\\client\\session.py\u001b[0m in \u001b[0;36m_run\u001b[1;34m(self, handle, fetches, feed_dict, options, run_metadata)\u001b[0m\n\u001b[0;32m   1063\u001b[0m       \u001b[1;32mraise\u001b[0m \u001b[0mRuntimeError\u001b[0m\u001b[1;33m(\u001b[0m\u001b[1;34m'Attempted to use a closed Session.'\u001b[0m\u001b[1;33m)\u001b[0m\u001b[1;33m\u001b[0m\u001b[0m\n\u001b[0;32m   1064\u001b[0m     \u001b[1;32mif\u001b[0m \u001b[0mself\u001b[0m\u001b[1;33m.\u001b[0m\u001b[0mgraph\u001b[0m\u001b[1;33m.\u001b[0m\u001b[0mversion\u001b[0m \u001b[1;33m==\u001b[0m \u001b[1;36m0\u001b[0m\u001b[1;33m:\u001b[0m\u001b[1;33m\u001b[0m\u001b[0m\n\u001b[1;32m-> 1065\u001b[1;33m       raise RuntimeError('The Session graph is empty.  Add operations to the '\n\u001b[0m\u001b[0;32m   1066\u001b[0m                          'graph before calling run().')\n\u001b[0;32m   1067\u001b[0m \u001b[1;33m\u001b[0m\u001b[0m\n",
      "\u001b[1;31mRuntimeError\u001b[0m: The Session graph is empty.  Add operations to the graph before calling run()."
     ]
    }
   ],
   "source": [
    "if __name__ == '__main__':\n",
    "    tf.app.run()"
   ]
  },
  {
   "cell_type": "code",
   "execution_count": null,
   "metadata": {},
   "outputs": [],
   "source": []
  }
 ],
 "metadata": {
  "kernelspec": {
   "display_name": "Python 3",
   "language": "python",
   "name": "python3"
  },
  "language_info": {
   "codemirror_mode": {
    "name": "ipython",
    "version": 3
   },
   "file_extension": ".py",
   "mimetype": "text/x-python",
   "name": "python",
   "nbconvert_exporter": "python",
   "pygments_lexer": "ipython3",
   "version": "3.6.4"
  }
 },
 "nbformat": 4,
 "nbformat_minor": 2
}
