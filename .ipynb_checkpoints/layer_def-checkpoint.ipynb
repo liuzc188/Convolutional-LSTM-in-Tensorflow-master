{
 "cells": [
  {
   "cell_type": "code",
   "execution_count": 1,
   "metadata": {},
   "outputs": [
    {
     "name": "stderr",
     "output_type": "stream",
     "text": [
      "C:\\Users\\Administrator\\Anaconda3\\lib\\site-packages\\h5py\\__init__.py:36: FutureWarning: Conversion of the second argument of issubdtype from `float` to `np.floating` is deprecated. In future, it will be treated as `np.float64 == np.dtype(float).type`.\n",
      "  from ._conv import register_converters as _register_converters\n"
     ]
    }
   ],
   "source": [
    "\"\"\"functions used to construct different architectures  \"\"\"\n",
    "import tensorflow as tf\n",
    "import numpy as np\n",
    "from config import cfg"
   ]
  },
  {
   "cell_type": "code",
   "execution_count": 2,
   "metadata": {},
   "outputs": [],
   "source": [
    "def _activation_summary(x):\n",
    "\n",
    "    \"\"\"Helper to create summaries for activations.\n",
    "    Creates a summary that provides a histogram of activations.\n",
    "    Creates a summary that measure the sparsity of activations.\n",
    "    Args:   x: Tensor\n",
    "    Returns:  nothing\n",
    "    \"\"\"\n",
    "    tensor_name = x.op.name\n",
    "    tf.summary.histogram(tensor_name + '/activations', x)\n",
    "    tf.summary.scalar(tensor_name + '/sparsity', tf.nn.zero_fraction(x))\n",
    "\n",
    "def _variable_on_cpu(name, shape, initializer):\n",
    "    \"\"\"Helper to create a Variable stored on CPU memory.\n",
    "\n",
    "    Args:\n",
    "        name: name of the variable\n",
    "        shape: list of ints\n",
    "        initializer: initializer for Variable\n",
    "\n",
    "    Returns:\n",
    "        Variable Tensor \"\"\"\n",
    "    with tf.device('/cpu:0'):\n",
    "        var = tf.get_variable(name, shape, initializer=initializer)\n",
    "    return var"
   ]
  },
  {
   "cell_type": "code",
   "execution_count": 4,
   "metadata": {},
   "outputs": [],
   "source": [
    "def _variable_with_weight_decay(name, shape, stddev, wd):\n",
    "    \"\"\"Helper to create an initialized Variable with weight decay.\n",
    "\n",
    "    Note that the Variable is initialized with a truncated normal distribution.\n",
    "    A weight decay is added only if one is specified.\n",
    "\n",
    "    Args:\n",
    "        name: name of the variable\n",
    "        shape: list of ints\n",
    "        stddev: standard deviation of a truncated Gaussian\n",
    "        wd: add L2Loss weight decay multiplied by this float. If None, weight\n",
    "            decay is not added for this Variable.\n",
    "\n",
    "    Returns:\n",
    "        Variable Tensor\n",
    "    \"\"\"\n",
    "    var = _variable_on_cpu(name, shape, tf.truncated_normal_initializer(stddev=stddev))\n",
    "    if wd:\n",
    "        weight_decay = tf.multiply(tf.nn.l2_loss(var), wd, name='weight_loss')\n",
    "        weight_decay.set_shape([])\n",
    "        tf.add_to_collection('losses', weight_decay)\n",
    "    return var"
   ]
  },
  {
   "cell_type": "code",
   "execution_count": 7,
   "metadata": {},
   "outputs": [],
   "source": [
    "def conv_layer(inputs, kernel_size, stride, num_features, idx, linear = False):\n",
    "    with tf.variable_scope('{0}_conv'.format(idx)) as scope:\n",
    "        input_channels = inputs.get_shape()[3]\n",
    "\n",
    "        weights = _variable_with_weight_decay('weights', shape=[kernel_size,kernel_size,input_channels,num_features],stddev=0.01,\\\n",
    "                                              wd=cfg.weight_decay)\n",
    "        biases = _variable_on_cpu('biases',[num_features],tf.constant_initializer(0.01))\n",
    "\n",
    "        conv = tf.nn.conv2d(inputs, weights, strides=[1, stride, stride, 1], padding='SAME')\n",
    "        conv_biased = tf.nn.bias_add(conv, biases)\n",
    "        if linear:\n",
    "            return conv_biased\n",
    "        conv_rect = tf.nn.elu(conv_biased,name='{0}_conv'.format(idx))\n",
    "        return conv_rect\n",
    "\n",
    "def transpose_conv_layer(inputs, kernel_size, stride, num_features, idx, linear = False):\n",
    "    with tf.variable_scope('{0}_trans_conv'.format(idx)) as scope:\n",
    "        input_channels = inputs.get_shape()[3]\n",
    "\n",
    "        weights = _variable_with_weight_decay('weights', shape=[kernel_size,kernel_size,num_features,input_channels], stddev=0.01,\\\n",
    "                                              wd=cfg.weight_decay)\n",
    "        biases = _variable_on_cpu('biases',[num_features],tf.constant_initializer(0.01))\n",
    "        batch_size = tf.shape(inputs)[0]\n",
    "        output_shape = tf.stack([tf.shape(inputs)[0], tf.shape(inputs)[1]*stride, tf.shape(inputs)[2]*stride, num_features]) \n",
    "        conv = tf.nn.conv2d_transpose(inputs, weights, output_shape, strides=[1,stride,stride,1], padding='SAME')\n",
    "        conv_biased = tf.nn.bias_add(conv, biases)\n",
    "        if linear:\n",
    "            return conv_biased\n",
    "        conv_rect = tf.nn.elu(conv_biased,name='{0}_transpose_conv'.format(idx))\n",
    "        return conv_rect"
   ]
  },
  {
   "cell_type": "code",
   "execution_count": 8,
   "metadata": {},
   "outputs": [],
   "source": [
    "def fc_layer(inputs, hiddens, idx, flat = False, linear = False):\n",
    "    with tf.variable_scope('{0}_fc'.format(idx)) as scope:\n",
    "        input_shape = inputs.get_shape().as_list()\n",
    "        if flat:\n",
    "            dim = input_shape[1]*input_shape[2]*input_shape[3]\n",
    "            inputs_processed = tf.reshape(inputs, [-1,dim])\n",
    "        else:\n",
    "            dim = input_shape[1]\n",
    "            inputs_processed = inputs\n",
    "\n",
    "        weights = _variable_with_weight_decay('weights', shape=[dim,hiddens],stddev=cfg.weight_init, wd=cfg.weight_decay)\n",
    "        biases = _variable_on_cpu('biases', [hiddens], tf.constant_initializer(cfg.weight_init))\n",
    "        if linear:\n",
    "            return tf.add(tf.matmul(inputs_processed,weights),biases,name=str(idx)+'_fc')\n",
    "\n",
    "        ip = tf.add(tf.matmul(inputs_processed,weights),biases)\n",
    "        return tf.nn.elu(ip,name=str(idx)+'_fc')"
   ]
  },
  {
   "cell_type": "code",
   "execution_count": null,
   "metadata": {},
   "outputs": [],
   "source": []
  }
 ],
 "metadata": {
  "kernelspec": {
   "display_name": "Python 3",
   "language": "python",
   "name": "python3"
  },
  "language_info": {
   "codemirror_mode": {
    "name": "ipython",
    "version": 3
   },
   "file_extension": ".py",
   "mimetype": "text/x-python",
   "name": "python",
   "nbconvert_exporter": "python",
   "pygments_lexer": "ipython3",
   "version": "3.6.4"
  }
 },
 "nbformat": 4,
 "nbformat_minor": 2
}
